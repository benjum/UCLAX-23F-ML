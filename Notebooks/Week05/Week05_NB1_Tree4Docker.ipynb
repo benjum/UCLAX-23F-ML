{
  "cells": [
    {
      "cell_type": "markdown",
      "id": "81a744c1",
      "metadata": {},
      "source": "This notebook can be used as our prototype environment for developing a Python script that uses a Decision Tree model to predict benign vs malignant tumors in the Wisconsin Breast Cancer dataset.\n* Documentation for the data: https://scikit-learn.org/stable/modules/generated/sklearn.datasets.load_breast_cancer.html\n* You don't have to import anything that's not already imported here"
    },
    {
      "cell_type": "code",
      "execution_count": null,
      "id": "ba974893",
      "metadata": {
        "trusted": true
      },
      "outputs": [],
      "source": "# Import libraries\nfrom sklearn.datasets import load_breast_cancer\nfrom sklearn.model_selection import train_test_split\nfrom sklearn.tree import DecisionTreeClassifier\nfrom sklearn.metrics import accuracy_score"
    },
    {
      "cell_type": "code",
      "execution_count": null,
      "id": "541ce984",
      "metadata": {
        "trusted": true
      },
      "outputs": [],
      "source": "# Load the breast cancer dataset\ndata = load_breast_cancer()\nX = data.??\ny = data.??"
    },
    {
      "cell_type": "code",
      "execution_count": null,
      "id": "8926579e",
      "metadata": {
        "trusted": true
      },
      "outputs": [],
      "source": "# Split the data into training and testing sets\n??, ??, ??, ?? = train_test_split(??, ??, test_size=0.2, random_state=42)"
    },
    {
      "cell_type": "code",
      "execution_count": null,
      "id": "992bc8e7",
      "metadata": {
        "trusted": true
      },
      "outputs": [],
      "source": "# You may find it useful to double-check the sizes\n# of your test and training data\n\n"
    },
    {
      "cell_type": "code",
      "execution_count": null,
      "id": "0244113d",
      "metadata": {
        "trusted": true
      },
      "outputs": [],
      "source": "# Create a Decision Tree Classifier\ntree_clf = ??(random_state=42)"
    },
    {
      "cell_type": "code",
      "execution_count": null,
      "id": "2c123df7",
      "metadata": {
        "trusted": true
      },
      "outputs": [],
      "source": "# Train the model\ntree_clf.??(??, ??)"
    },
    {
      "cell_type": "code",
      "execution_count": null,
      "id": "b65962cb",
      "metadata": {
        "trusted": true
      },
      "outputs": [],
      "source": "# Make predictions\ny_pred = tree_clf.??(??)"
    },
    {
      "cell_type": "code",
      "execution_count": null,
      "id": "6201a42d",
      "metadata": {
        "trusted": true
      },
      "outputs": [],
      "source": "# Calculate and print the accuracy\naccuracy = ??(??, y_pred)\nprint(f'Decision Tree Model Accuracy: {accuracy:.2f}')"
    },
    {
      "cell_type": "markdown",
      "id": "c2b409eb",
      "metadata": {},
      "source": "When you are finished:\n1. Double-check your notebook with the teacher\n1. Download this notebook as a Python script by the menu option for File -> Download as -> Python (.py)"
    }
  ],
  "metadata": {
    "kernelspec": {
      "display_name": "Python 3 (ipykernel)",
      "language": "python",
      "name": "python3"
    },
    "language_info": {
      "codemirror_mode": {
        "name": "ipython",
        "version": 3
      },
      "file_extension": ".py",
      "mimetype": "text/x-python",
      "name": "python",
      "nbconvert_exporter": "python",
      "pygments_lexer": "ipython3",
      "version": "3.10.11"
    }
  },
  "nbformat": 4,
  "nbformat_minor": 5
}